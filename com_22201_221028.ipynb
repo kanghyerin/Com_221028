{
  "nbformat": 4,
  "nbformat_minor": 0,
  "metadata": {
    "colab": {
      "provenance": [],
      "authorship_tag": "ABX9TyNkZnL5A06Xh3D4RyFs1jRD",
      "include_colab_link": true
    },
    "kernelspec": {
      "name": "python3",
      "display_name": "Python 3"
    },
    "language_info": {
      "name": "python"
    }
  },
  "cells": [
    {
      "cell_type": "markdown",
      "metadata": {
        "id": "view-in-github",
        "colab_type": "text"
      },
      "source": [
        "<a href=\"https://colab.research.google.com/github/kanghyerin/Com_221028/blob/main/com_22201_221028.ipynb\" target=\"_parent\"><img src=\"https://colab.research.google.com/assets/colab-badge.svg\" alt=\"Open In Colab\"/></a>"
      ]
    },
    {
      "cell_type": "markdown",
      "source": [
        "문제를 냅니다."
      ],
      "metadata": {
        "id": "1w-SG4X096kD"
      }
    },
    {
      "cell_type": "code",
      "source": [
        "total = 0\n",
        "counter = 1\n",
        "while counter <= 10:\n",
        "  grade = int(input(\" 점수를 입력하세요.: \"))\n",
        "  total = grade + total\n",
        "  counter = counter + 1\n",
        "average = total / 10\n",
        "print(average)"
      ],
      "metadata": {
        "colab": {
          "base_uri": "https://localhost:8080/"
        },
        "id": "rNO0-SCM9-by",
        "outputId": "4aa95286-0f83-41ce-c1d1-b528b5e382fa"
      },
      "execution_count": null,
      "outputs": [
        {
          "output_type": "stream",
          "name": "stdout",
          "text": [
            " 점수를 입력하세요.: 10\n",
            " 점수를 입력하세요.: 10\n",
            " 점수를 입력하세요.: 10\n",
            " 점수를 입력하세요.: 10\n",
            " 점수를 입력하세요.: 10\n",
            " 점수를 입력하세요.: 10\n",
            " 점수를 입력하세요.: 10\n",
            " 점수를 입력하세요.: 10\n",
            " 점수를 입력하세요.: 10\n",
            " 점수를 입력하세요.: 10\n",
            "10.0\n"
          ]
        }
      ]
    },
    {
      "cell_type": "code",
      "source": [
        "x = 10\n",
        "y = 2\n",
        "result = x + y\n",
        "print(result)\n"
      ],
      "metadata": {
        "colab": {
          "base_uri": "https://localhost:8080/"
        },
        "id": "pb2g9sOwETNC",
        "outputId": "4625377f-8ef3-4563-df42-8288d790a8f5"
      },
      "execution_count": null,
      "outputs": [
        {
          "output_type": "stream",
          "name": "stdout",
          "text": [
            "12\n"
          ]
        }
      ]
    },
    {
      "cell_type": "code",
      "source": [
        "print(\"Hello World!\"); print(\"안녕 파이썬!\");"
      ],
      "metadata": {
        "colab": {
          "base_uri": "https://localhost:8080/"
        },
        "id": "ikA4MhZsFGXR",
        "outputId": "9f1fa3b6-08cc-4f37-aa92-c53ca47b45c7"
      },
      "execution_count": null,
      "outputs": [
        {
          "output_type": "stream",
          "name": "stdout",
          "text": [
            "Hello World!\n",
            "안녕 파이썬!\n"
          ]
        }
      ]
    },
    {
      "cell_type": "code",
      "source": [
        "print(4+3);"
      ],
      "metadata": {
        "colab": {
          "base_uri": "https://localhost:8080/"
        },
        "id": "6Md0BrTxGJAg",
        "outputId": "bb07364d-d6f3-4ad7-b58a-7fd24c4b0476"
      },
      "execution_count": null,
      "outputs": [
        {
          "output_type": "stream",
          "name": "stdout",
          "text": [
            "7\n"
          ]
        }
      ]
    },
    {
      "cell_type": "code",
      "source": [
        "print(\"#\" * 15)\n",
        "print(\"# 안녕하세요? #\")\n",
        "print(\"#\" * 15)"
      ],
      "metadata": {
        "colab": {
          "base_uri": "https://localhost:8080/"
        },
        "id": "OvTIIv-2HUPJ",
        "outputId": "0178e55c-826e-472b-f605-e3f6a4a6e996"
      },
      "execution_count": null,
      "outputs": [
        {
          "output_type": "stream",
          "name": "stdout",
          "text": [
            "###############\n",
            "# 안녕하세요? #\n",
            "###############\n"
          ]
        }
      ]
    },
    {
      "cell_type": "code",
      "source": [
        "print(\"3개의 값을 입력하시오.\")\n",
        "x = int(input(\"x의 값을 입력하시오.:\"))\n",
        "y = int(input(\"y의 값을 입력하시오.:\"))\n",
        "z = int(input(\"z의 값을 입력하시오.:\"))\n",
        "x = x + 1\n",
        "y = y + 1\n",
        "z = z + 1\n",
        "print(\"변경된 값은:\", x, y, z, \"로 변경되었습니다.\")"
      ],
      "metadata": {
        "colab": {
          "base_uri": "https://localhost:8080/"
        },
        "id": "BcgAO-ZNKCrg",
        "outputId": "e2276d9f-af8f-4686-f8ff-4a8c6ba36f5f"
      },
      "execution_count": null,
      "outputs": [
        {
          "output_type": "stream",
          "name": "stdout",
          "text": [
            "3개의 값을 입력하시오.\n",
            "x의 값을 입력하시오.:1\n",
            "y의 값을 입력하시오.:2\n",
            "z의 값을 입력하시오.:3\n",
            "변경된 값은: 2 3 4 로 변경되었습니다.\n"
          ]
        }
      ]
    },
    {
      "cell_type": "code",
      "source": [
        "won = 10000\n",
        "usd = won * 1418\n",
        "print(usd)"
      ],
      "metadata": {
        "colab": {
          "base_uri": "https://localhost:8080/"
        },
        "id": "Z4D2QtZaLeDg",
        "outputId": "056fa029-ce39-4a69-85ba-05681a767c7c"
      },
      "execution_count": null,
      "outputs": [
        {
          "output_type": "stream",
          "name": "stdout",
          "text": [
            "14180000\n"
          ]
        }
      ]
    },
    {
      "cell_type": "code",
      "source": [
        "print(\"현재의 환율을 입력하시오.:\")\n",
        "exchange_rate = int(input(\"달러의 환율금액을 입력:\"))\n",
        "won = int(input(\"한국금액을 입력하시오.\"))\n",
        "usd = won * exchange_rate\n",
        "print(usd)"
      ],
      "metadata": {
        "colab": {
          "base_uri": "https://localhost:8080/"
        },
        "id": "GYdM8AGtNrpI",
        "outputId": "4b0913ca-e571-4ba0-a59d-27c9f6ab541b"
      },
      "execution_count": null,
      "outputs": [
        {
          "output_type": "stream",
          "name": "stdout",
          "text": [
            "현재의 환율을 입력하시오.:\n",
            "달러의 환율금액을 입력:1418\n",
            "한국금액을 입력하시오.5000\n",
            "7090000\n"
          ]
        }
      ]
    },
    {
      "cell_type": "code",
      "source": [
        "fahrenheit = 100\n",
        "celsius = fahrenheit - 32\n",
        "celsius = celsius * 5\n",
        "celsius = celsius / 9\n",
        "print(celsius)"
      ],
      "metadata": {
        "colab": {
          "base_uri": "https://localhost:8080/"
        },
        "id": "Z83l8dqVPGz4",
        "outputId": "80b68f4b-1122-4eb2-89ad-810c712399fa"
      },
      "execution_count": null,
      "outputs": [
        {
          "output_type": "stream",
          "name": "stdout",
          "text": [
            "37.77777777777778\n"
          ]
        }
      ]
    },
    {
      "cell_type": "code",
      "source": [
        "fahrenheit = 100\n",
        "celsius = 5 * (fahrenheit - 32) / 9\n",
        "print(celsius)"
      ],
      "metadata": {
        "colab": {
          "base_uri": "https://localhost:8080/"
        },
        "id": "iMUM6sOXPtEf",
        "outputId": "87f8df4e-63ac-495a-bf1d-42a2cae9f8c2"
      },
      "execution_count": null,
      "outputs": [
        {
          "output_type": "stream",
          "name": "stdout",
          "text": [
            "37.77777777777778\n"
          ]
        }
      ]
    }
  ]
}